{
  "nbformat": 4,
  "nbformat_minor": 0,
  "metadata": {
    "colab": {
      "provenance": [],
      "gpuType": "T4"
    },
    "kernelspec": {
      "name": "python3",
      "display_name": "Python 3"
    },
    "language_info": {
      "name": "python"
    },
    "accelerator": "GPU"
  },
  "cells": [
    {
      "cell_type": "markdown",
      "source": [
        "# RAG implementation for Tech-news dataset"
      ],
      "metadata": {
        "id": "EPseCCAA5ujV"
      }
    },
    {
      "cell_type": "markdown",
      "source": [
        "### Installation"
      ],
      "metadata": {
        "id": "AeuZpEBS55D8"
      }
    },
    {
      "cell_type": "code",
      "execution_count": 86,
      "metadata": {
        "id": "hPPHiHKvVbMA"
      },
      "outputs": [],
      "source": [
        "!pip install -q langchain sentence-transformers cohere"
      ]
    },
    {
      "cell_type": "code",
      "source": [
        "!pip install faiss-cpu"
      ],
      "metadata": {
        "colab": {
          "base_uri": "https://localhost:8080/"
        },
        "id": "FpyrVBhDwlZk",
        "outputId": "25d97435-d95a-4c85-a313-05deaee7518a"
      },
      "execution_count": 87,
      "outputs": [
        {
          "output_type": "stream",
          "name": "stdout",
          "text": [
            "Requirement already satisfied: faiss-cpu in /usr/local/lib/python3.10/dist-packages (1.7.4)\n"
          ]
        }
      ]
    },
    {
      "cell_type": "code",
      "source": [
        "!pip install rank_bm25"
      ],
      "metadata": {
        "colab": {
          "base_uri": "https://localhost:8080/"
        },
        "id": "33STsJ-a00gU",
        "outputId": "ce04076b-b368-4599-bb05-053979d2c297"
      },
      "execution_count": 88,
      "outputs": [
        {
          "output_type": "stream",
          "name": "stdout",
          "text": [
            "Requirement already satisfied: rank_bm25 in /usr/local/lib/python3.10/dist-packages (0.2.2)\n",
            "Requirement already satisfied: numpy in /usr/local/lib/python3.10/dist-packages (from rank_bm25) (1.23.5)\n"
          ]
        }
      ]
    },
    {
      "cell_type": "code",
      "source": [
        "from google.colab import drive\n",
        "drive.mount('/content/drive')"
      ],
      "metadata": {
        "colab": {
          "base_uri": "https://localhost:8080/"
        },
        "id": "O1awQB98Vjf9",
        "outputId": "be986a5a-507d-4175-d2a6-cb3bc707d4e7"
      },
      "execution_count": 89,
      "outputs": [
        {
          "output_type": "stream",
          "name": "stdout",
          "text": [
            "Drive already mounted at /content/drive; to attempt to forcibly remount, call drive.mount(\"/content/drive\", force_remount=True).\n"
          ]
        }
      ]
    },
    {
      "cell_type": "code",
      "source": [
        "from langchain.document_loaders import TextLoader\n",
        "from langchain.text_splitter import RecursiveCharacterTextSplitter\n",
        "from langchain.embeddings import HuggingFaceInferenceAPIEmbeddings\n",
        "from langchain.vectorstores import FAISS\n",
        "from langchain.retrievers import ContextualCompressionRetriever\n",
        "from langchain.retrievers.document_compressors import CohereRerank\n",
        "from langchain_core.prompts import ChatPromptTemplate\n",
        "from langchain_core.output_parsers import StrOutputParser\n",
        "from langchain_core.runnables import RunnablePassthrough\n",
        "from langchain.retrievers import BM25Retriever, EnsembleRetriever"
      ],
      "metadata": {
        "id": "-JxriG3IV21f"
      },
      "execution_count": 90,
      "outputs": []
    },
    {
      "cell_type": "code",
      "source": [
        "import os\n",
        "from getpass import getpass\n",
        "\n",
        "HF_token = getpass()"
      ],
      "metadata": {
        "colab": {
          "base_uri": "https://localhost:8080/"
        },
        "id": "3pC7XoJpYjQE",
        "outputId": "569a0898-8e74-40b9-e2b6-eea0442b49d6"
      },
      "execution_count": null,
      "outputs": [
        {
          "name": "stdout",
          "output_type": "stream",
          "text": [
            "··········\n"
          ]
        }
      ]
    },
    {
      "cell_type": "code",
      "source": [
        "os.environ['HUGGINGFACEHUB_API_TOKEN'] = HF_token"
      ],
      "metadata": {
        "id": "6SPLFzjtYlXe"
      },
      "execution_count": 91,
      "outputs": []
    },
    {
      "cell_type": "markdown",
      "source": [
        "## Dataset\n",
        "[BBC Tech News Dataset](http://mlg.ucd.ie/datasets/bbc.html)"
      ],
      "metadata": {
        "id": "wKmoKwcN5_li"
      }
    },
    {
      "cell_type": "code",
      "source": [
        "dataset_folder_path='/content/drive/MyDrive/Tech_news_dataset/dataset_news/'"
      ],
      "metadata": {
        "id": "Cr80z3gVYsAw"
      },
      "execution_count": 92,
      "outputs": []
    },
    {
      "cell_type": "code",
      "source": [
        "documents=[]\n",
        "for file in os.listdir(dataset_folder_path):\n",
        "  loader=TextLoader(dataset_folder_path+file)\n",
        "  documents.extend(loader.load())\n"
      ],
      "metadata": {
        "id": "WAs40WoqY4Vk"
      },
      "execution_count": 93,
      "outputs": []
    },
    {
      "cell_type": "code",
      "source": [
        "documents[:3]"
      ],
      "metadata": {
        "colab": {
          "base_uri": "https://localhost:8080/"
        },
        "id": "lzIzrMpWZCvc",
        "outputId": "31176c0b-3543-4ddf-c1c6-c8c100463d61"
      },
      "execution_count": 94,
      "outputs": [
        {
          "output_type": "execute_result",
          "data": {
            "text/plain": [
              "[Document(page_content='Millions buy MP3 players in US\\n\\nOne in 10 adult Americans - equivalent to 22 million people - owns an MP3 player, according to a survey.\\n\\nA study by the Pew Internet and American Life Project found that MP3 players are the gadget of choice among affluent young Americans. The survey did not interview teenagers but it is likely that millions of under-18s also have MP3 players. The American love affair with digital music players has been made possible as more and more homes get broadband.\\n\\nOf the 22 million Americans who own MP3 players, 59% are men compared to 41% of women. Those on high income - judged to be $75,000 (£39,000) or above - are four times more likely to have players than those earning less than $30, 000 ( £15,000). Broadband access plays a big part in ownership too. Almost a quarter of those with broadband at home have players, compared to 9% of those who have dial-up access. MP3 players are still the gadget of choice for younger adults. Almost one in five US citizens aged under 30 have one. This compares to 14% of those aged 30-39 and 14% of those aged 40-48. The influence of children also plays a part. Sixteen percent of parents living with children under 18 have digital players compared to 9% of those who don\\'t. The ease of use and growth of music available on the net are the main factors for the upsurge in ownership, the survey found. People are beginning to use them as instruments of social activity - sharing songs and taking part in podcasting - the survey found. \"IPods and MP3 players are becoming a mainstream technology for consumers\" said Lee Rainie, director of the Pew Internet and American Life Project. \"More growth in the market is inevitable as new devices become available, as new players enter the market, and as new social uses for iPods/MP3 players become popular,\" he added.\\n', metadata={'source': '/content/drive/MyDrive/Tech_news_dataset/dataset_news/047.txt'}),\n",
              " Document(page_content='Net regulation \\'still possible\\'\\n\\nThe blurring of boundaries between TV and the internet raises questions of regulation, watchdog Ofcom has said.\\n\\nContent on TV and the internet is set to move closer this year as TV-quality video online becomes a norm. At a debate in Westminster, the net industry considered the options. Lord Currie, chairman of super-regulator Ofcom, told the panel that protecting audiences would always have to be a primary concern for the watchdog. Despite having no remit for the regulation of net content, disquiet has increased among internet service providers as speeches made by Ofcom in recent months hinted that regulation might be an option. At the debate, organised by the Internet Service Providers\\' Association (ISPA), Lord Currie did not rule out the possibility of regulation.\\n\\n\"The challenge will arise when boundaries between TV and the internet truly blur and then there is a balance to be struck between protecting consumers and allowing them to assess the risks themselves,\" he said. Adopting the rules that currently exist to regulate TV content or self-regulation, which is currently the practice of the net industry, will be up for discussion.\\n\\nSome studies suggest that as many as eight million households in the UK could have adopted broadband by the end of 2005, and the technology opens the door to TV content delivered over the net. More and more internet service providers and media companies are streaming video content on the web. BT has already set up an entertainment division to create and distribute content that could come from sources such as BSkyB, ITV and the BBC. Head of the division, Andrew Burke, spoke about the possibility of creating content for all platforms. \"How risque can I be in this new age? With celebrity chefs serving up more expletives than hot dinners, surely I can push it to the limit,\" he said.\\n\\nIn fact, he said, if content has been requested by consumers and they have gone to lengths to download it, then maybe it should be entirely regulation free. Internet service providers have long claimed no responsibility for the content they carry on their servers since the Law Commission dubbed them \"mere conduits\" back in 2002. This defence does not apply if they have actual knowledge of illegal content and have failed to remove it. The level of responsibility they have has been tested in several high-profile legal cases. Richard Ayers, portal director at Tiscali, said there was little point trying to regulate the internet because it would be impossible. Huge changes are afoot in 2005, he predicted, as companies such as the BBC offer TV content over the net. The BBC\\'s planned interactive media player which will give surfers the chance to download programmes such as EastEnders and Top Gear will make net TV mainstream and raise a whole new set of questions, he said.\\n\\nOne of these will be about the vast sums of money involved in maintaining the network to supply such a huge quantity of data and could herald a new digital licence fee, said Mr Ayers. As inappropriate net content, most obviously pornography viewed by children, continues to dominate the headlines, internet regulation remains a political issue said MP Richard Allan, Liberal Democrat spokesman on IT. Mr Allan thinks that the answer could lie somewhere between the cries of \"impossible to regulate\" and \"just apply offline laws online\". In fact, instead of seeing regulation brought online, the future could bring an end to regulation as we know it for all TV content. After Lord Currie departed, the panel agreed that this could be a reality and that for the internet people power is likely to reign. \"If content is on-demand, consumers have pulled it up rather than had pushed to them, then it is the consumers\\' choice to watch it. There is no watershed on the net,\" said Mr Burke.\\n', metadata={'source': '/content/drive/MyDrive/Tech_news_dataset/dataset_news/087.txt'}),\n",
              " Document(page_content='Junk e-mails on relentless rise\\n\\nSpam traffic is up by 40%, putting the total amount of e-mail that is junk up to an astonishing 90%.\\n\\nThe figures, from e-mail management firm Email Systems, will alarm firms attempting to cope with the amount of spam in their in-boxes. While virus traffic has slowed down, denial of service attacks are on the increase according to the firm. Virus mail accounts for just over 15% of all e-mail traffic analysis by the firm has found.\\n\\nIt is no longer just multi-nationals that are in danger of so-called denial of service attacks, in which websites are bombarded by requests for information and rendered inaccessible. Email Systems refers to a small UK-based engineering firm, which received a staggering 12 million e-mails in January. The type of spam currently being sent has subtlety altered in the last few months, according to Email Systems analysis. Half of spam received since Christmas has been health-related with gambling and porn also on the increase. Scam mails, offering ways to make a quick buck, have declined by 40%. \"January is clearly a month when consumers are less motivated to purchase financial products or put money into dubious financial opportunities,\" said Neil Hammerton, managing director of Email Systems. \"Spammers seem to have adapted their output to reflect this, focussing instead on medically motivated and pornographic offers, presumably intentionally intended to coincide with what is traditionally considered to be the bleakest month in the calendar,\" he said.\\n', metadata={'source': '/content/drive/MyDrive/Tech_news_dataset/dataset_news/055.txt'})]"
            ]
          },
          "metadata": {},
          "execution_count": 94
        }
      ]
    },
    {
      "cell_type": "code",
      "source": [
        "len(documents)"
      ],
      "metadata": {
        "colab": {
          "base_uri": "https://localhost:8080/"
        },
        "id": "cvI6o9HRZEyG",
        "outputId": "0aa4b7c1-b7f0-4894-9e86-4986485e0091"
      },
      "execution_count": 95,
      "outputs": [
        {
          "output_type": "execute_result",
          "data": {
            "text/plain": [
              "110"
            ]
          },
          "metadata": {},
          "execution_count": 95
        }
      ]
    },
    {
      "cell_type": "markdown",
      "source": [
        "### Chunking the text"
      ],
      "metadata": {
        "id": "xZlMu4FL6Ets"
      }
    },
    {
      "cell_type": "code",
      "source": [
        "text_splitter=RecursiveCharacterTextSplitter(chunk_size=512,chunk_overlap=50)\n",
        "text_splits=text_splitter.split_documents(documents)\n",
        "print(len(text_splits))"
      ],
      "metadata": {
        "colab": {
          "base_uri": "https://localhost:8080/"
        },
        "id": "rGT04s6zZRcE",
        "outputId": "fdabbcf3-804a-4f2a-8343-190c4c450b34"
      },
      "execution_count": 96,
      "outputs": [
        {
          "output_type": "stream",
          "name": "stdout",
          "text": [
            "866\n"
          ]
        }
      ]
    },
    {
      "cell_type": "markdown",
      "source": [
        "### Embedding Model"
      ],
      "metadata": {
        "id": "Eg2wh1dD6Iez"
      }
    },
    {
      "cell_type": "code",
      "source": [
        "embeddings=HuggingFaceInferenceAPIEmbeddings(\n",
        "    api_key=HF_token,\n",
        "    model_name='BAAI/bge-base-en-v1.5'\n",
        ")"
      ],
      "metadata": {
        "id": "z5AJEEpEZbB6"
      },
      "execution_count": 97,
      "outputs": []
    },
    {
      "cell_type": "code",
      "source": [
        "vectorstore = FAISS.from_documents(text_splits, embeddings)"
      ],
      "metadata": {
        "id": "Taq_vvxUZm6W"
      },
      "execution_count": 98,
      "outputs": []
    },
    {
      "cell_type": "markdown",
      "source": [
        "## **Implementing Hybrid Search with ensemble Retrieval**"
      ],
      "metadata": {
        "id": "D7pLyG2H6VAp"
      }
    },
    {
      "cell_type": "code",
      "source": [
        "retriever_vectordb = vectorstore.as_retriever(search_kwargs={\"k\": 5})"
      ],
      "metadata": {
        "id": "A4CZMZzwZpty"
      },
      "execution_count": 99,
      "outputs": []
    },
    {
      "cell_type": "code",
      "source": [
        "keyword_retriever = BM25Retriever.from_documents(text_splits)\n",
        "keyword_retriever.k =  5"
      ],
      "metadata": {
        "id": "pIaE1Ndi0VaR"
      },
      "execution_count": 100,
      "outputs": []
    },
    {
      "cell_type": "code",
      "source": [
        "ensemble_retriever = EnsembleRetriever(retrievers=[retriever_vectordb,keyword_retriever],\n",
        "                                       weights=[0.5, 0.5])"
      ],
      "metadata": {
        "id": "jxW1DOf70b3Q"
      },
      "execution_count": 101,
      "outputs": []
    },
    {
      "cell_type": "code",
      "source": [
        "query=\"How many cafes were closed in 2004?\""
      ],
      "metadata": {
        "id": "x7yn-nAScMoE"
      },
      "execution_count": 102,
      "outputs": []
    },
    {
      "cell_type": "code",
      "source": [
        "docs_rel=ensemble_retriever.get_relevant_documents(query)\n",
        "docs_rel"
      ],
      "metadata": {
        "colab": {
          "base_uri": "https://localhost:8080/"
        },
        "id": "zTedDTz0cQle",
        "outputId": "e4080c7f-b7fe-41d5-ecad-753ac85d9d4a"
      },
      "execution_count": null,
      "outputs": [
        {
          "output_type": "execute_result",
          "data": {
            "text/plain": [
              "[Document(page_content=\"China net cafe culture crackdown\\n\\nChinese authorities closed 12,575 net cafes in the closing months of 2004, the country's government said.\", metadata={'source': '/content/drive/MyDrive/Tech_news_dataset/dataset_news/002.txt'}),\n",
              " Document(page_content='According to the official news agency most of the net cafes were closed down because they were operating illegally. Chinese net cafes operate under a set of strict guidelines and many of those most recently closed broke rules that limit how close they can be to schools. The move is the latest in a series of steps the Chinese government has taken to crack down on what it considers to be immoral net use.', metadata={'source': '/content/drive/MyDrive/Tech_news_dataset/dataset_news/002.txt'}),\n",
              " Document(page_content='The official Xinhua News Agency said the crackdown was carried out to create a \"safer environment for young people in China\". Rules introduced in 2002 demand that net cafes be at least 200 metres away from middle and elementary schools. The hours that children can use net cafes are also tightly regulated. China has long been worried that net cafes are an unhealthy influence on young people. The 12,575 cafes were shut in the three months from October to December. China also tries to dictate the types of', metadata={'source': '/content/drive/MyDrive/Tech_news_dataset/dataset_news/002.txt'}),\n",
              " Document(page_content='Net cafes are hugely popular in China because the relatively high cost of computer hardware means that few people have PCs in their homes. This is not the first time that the Chinese government has moved against net cafes that are not operating within its strict guidelines. All the 100,000 or so net cafes in the country are required to use software that controls what websites users can see. Logs of sites people visit are also kept. Laws on net cafe opening hours and who can use them were introduced in 2002', metadata={'source': '/content/drive/MyDrive/Tech_news_dataset/dataset_news/002.txt'}),\n",
              " Document(page_content='and who can use them were introduced in 2002 following a fire at one cafe that killed 25 people. During the crackdown following the blaze authorities moved to clean up net cafes and demanded that all of them get permits to operate. In August 2004 Chinese authorities shut down 700 websites and arrested 224 people in a crackdown on net porn. At the same time it introduced new controls to block overseas sex sites. The Reporters Without Borders group said in a report that Chinese government technologies for', metadata={'source': '/content/drive/MyDrive/Tech_news_dataset/dataset_news/002.txt'}),\n",
              " Document(page_content='Already net use in China has a very different character than in many Western nations, said William Makower, chief executive of Panlogic. In many Western nations desktop computers that can access the net are hard to escape at work. By contrast in China workplace machines are relatively rare. This, combined with the relatively high cost of PCs in China and the time it takes to get phone lines installed, helps to explains the huge number of net cafes in China. Only 36% of Chinese homes have telephones', metadata={'source': '/content/drive/MyDrive/Tech_news_dataset/dataset_news/074.txt'})]"
            ]
          },
          "metadata": {},
          "execution_count": 34
        }
      ]
    },
    {
      "cell_type": "markdown",
      "source": [
        "### Implementing Re-ranking with Cohere-Rerank"
      ],
      "metadata": {
        "id": "4DCCIAzB6wcH"
      }
    },
    {
      "cell_type": "code",
      "source": [
        "Cohere_API_token = getpass()"
      ],
      "metadata": {
        "colab": {
          "base_uri": "https://localhost:8080/"
        },
        "id": "DmebX6o7cVw8",
        "outputId": "9a2f886f-797e-48ae-ff81-af7b05e067da"
      },
      "execution_count": null,
      "outputs": [
        {
          "name": "stdout",
          "output_type": "stream",
          "text": [
            "··········\n"
          ]
        }
      ]
    },
    {
      "cell_type": "code",
      "source": [
        "os.environ[\"COHERE_API_KEY\"] =Cohere_API_token"
      ],
      "metadata": {
        "id": "iNZyWvTXy5-S"
      },
      "execution_count": 103,
      "outputs": []
    },
    {
      "cell_type": "code",
      "source": [
        "from langchain.llms import HuggingFaceHub\n",
        "model=HuggingFaceHub(repo_id='HuggingFaceH4/zephyr-7b-alpha',\n",
        "                     model_kwargs={\"temperature\":0.5,\"max_new_tokens\":512,\"max_length\":64}\n",
        ")"
      ],
      "metadata": {
        "colab": {
          "base_uri": "https://localhost:8080/"
        },
        "id": "0fMTkfXAzBAz",
        "outputId": "9001aa2b-f493-4787-e3d7-e56ed3cfa2db"
      },
      "execution_count": 104,
      "outputs": [
        {
          "output_type": "stream",
          "name": "stderr",
          "text": [
            "/usr/local/lib/python3.10/dist-packages/huggingface_hub/utils/_deprecation.py:131: FutureWarning: 'InferenceApi' (from 'huggingface_hub.inference_api') is deprecated and will be removed from version '1.0'. `InferenceApi` client is deprecated in favor of the more feature-complete `InferenceClient`. Check out this guide to learn how to convert your script to use it: https://huggingface.co/docs/huggingface_hub/guides/inference#legacy-inferenceapi-client.\n",
            "  warnings.warn(warning_message, FutureWarning)\n"
          ]
        }
      ]
    },
    {
      "cell_type": "code",
      "source": [
        "compressor = CohereRerank()\n",
        "compression_retriever = ContextualCompressionRetriever(\n",
        "    base_compressor=compressor, base_retriever=ensemble_retriever\n",
        ")\n",
        "compressed_docs = compression_retriever.get_relevant_documents(query)"
      ],
      "metadata": {
        "id": "-h4CYoqEzeyB"
      },
      "execution_count": 105,
      "outputs": []
    },
    {
      "cell_type": "code",
      "source": [
        "compression_retriever"
      ],
      "metadata": {
        "colab": {
          "base_uri": "https://localhost:8080/"
        },
        "id": "mQrpWgw0UHel",
        "outputId": "3c23db8a-c83c-427d-edea-3164b86c35c3"
      },
      "execution_count": 106,
      "outputs": [
        {
          "output_type": "execute_result",
          "data": {
            "text/plain": [
              "ContextualCompressionRetriever(base_compressor=CohereRerank(client=<cohere.client.Client object at 0x7cd149d20760>, top_n=3, model='rerank-english-v2.0', cohere_api_key=None, user_agent='langchain'), base_retriever=EnsembleRetriever(retrievers=[VectorStoreRetriever(tags=['FAISS', 'HuggingFaceInferenceAPIEmbeddings'], vectorstore=<langchain_community.vectorstores.faiss.FAISS object at 0x7cd149d207f0>, search_kwargs={'k': 5}), BM25Retriever(vectorizer=<rank_bm25.BM25Okapi object at 0x7cd149e0a8f0>, k=5)], weights=[0.5, 0.5]))"
            ]
          },
          "metadata": {},
          "execution_count": 106
        }
      ]
    },
    {
      "cell_type": "code",
      "source": [
        "compressed_docs"
      ],
      "metadata": {
        "colab": {
          "base_uri": "https://localhost:8080/"
        },
        "id": "BdXSb_Yyzxll",
        "outputId": "2f8168a3-0bb2-454c-e241-1d71af4dc2cd"
      },
      "execution_count": 107,
      "outputs": [
        {
          "output_type": "execute_result",
          "data": {
            "text/plain": [
              "[Document(page_content=\"China net cafe culture crackdown\\n\\nChinese authorities closed 12,575 net cafes in the closing months of 2004, the country's government said.\", metadata={'source': '/content/drive/MyDrive/Tech_news_dataset/dataset_news/002.txt', 'relevance_score': 0.9984022}),\n",
              " Document(page_content='According to the official news agency most of the net cafes were closed down because they were operating illegally. Chinese net cafes operate under a set of strict guidelines and many of those most recently closed broke rules that limit how close they can be to schools. The move is the latest in a series of steps the Chinese government has taken to crack down on what it considers to be immoral net use.', metadata={'source': '/content/drive/MyDrive/Tech_news_dataset/dataset_news/002.txt', 'relevance_score': 0.98469365}),\n",
              " Document(page_content='The official Xinhua News Agency said the crackdown was carried out to create a \"safer environment for young people in China\". Rules introduced in 2002 demand that net cafes be at least 200 metres away from middle and elementary schools. The hours that children can use net cafes are also tightly regulated. China has long been worried that net cafes are an unhealthy influence on young people. The 12,575 cafes were shut in the three months from October to December. China also tries to dictate the types of', metadata={'source': '/content/drive/MyDrive/Tech_news_dataset/dataset_news/002.txt', 'relevance_score': 0.9797453})]"
            ]
          },
          "metadata": {},
          "execution_count": 107
        }
      ]
    },
    {
      "cell_type": "code",
      "source": [
        "template = \"\"\"\n",
        "<|system|>>\n",
        "You are an AI Assistant that follows instructions extremely well.\n",
        "Please be truthful and give direct answers. Please tell 'I don't know' if user query is not in CONTEXT\n",
        "\n",
        "CONTEXT: {context}\n",
        "</s>\n",
        "<|user|>\n",
        "{query}\n",
        "</s>\n",
        "<|assistant|>\n",
        "\"\"\""
      ],
      "metadata": {
        "id": "0r8AkIok4L88"
      },
      "execution_count": 108,
      "outputs": []
    },
    {
      "cell_type": "code",
      "source": [
        "prompt = ChatPromptTemplate.from_template(template)"
      ],
      "metadata": {
        "id": "b4YMt_NA4-fe"
      },
      "execution_count": 109,
      "outputs": []
    },
    {
      "cell_type": "code",
      "source": [
        "output_parser = StrOutputParser()"
      ],
      "metadata": {
        "id": "bMTEv22d5L5c"
      },
      "execution_count": 110,
      "outputs": []
    },
    {
      "cell_type": "code",
      "source": [
        "chain = (\n",
        "    {\"context\": compression_retriever, \"query\": RunnablePassthrough()}\n",
        "    | prompt\n",
        "    | model\n",
        "    | output_parser\n",
        ")"
      ],
      "metadata": {
        "id": "niNnPjIC5NcA"
      },
      "execution_count": 111,
      "outputs": []
    },
    {
      "cell_type": "code",
      "source": [
        "query=\"How many cafes were closed in 2004 in China?\""
      ],
      "metadata": {
        "id": "hvbFhrUA5Y4W"
      },
      "execution_count": 112,
      "outputs": []
    },
    {
      "cell_type": "code",
      "source": [
        "response = chain.invoke(query)"
      ],
      "metadata": {
        "id": "twphqVQq4XCH"
      },
      "execution_count": 113,
      "outputs": []
    },
    {
      "cell_type": "code",
      "source": [
        "response"
      ],
      "metadata": {
        "colab": {
          "base_uri": "https://localhost:8080/",
          "height": 35
        },
        "id": "0iTh-Q_P4YVz",
        "outputId": "2767908d-f971-43ca-cd2c-c0d642cbf6a3"
      },
      "execution_count": 114,
      "outputs": [
        {
          "output_type": "execute_result",
          "data": {
            "text/plain": [
              "'According to the context provided, 12,575 net cafes were closed in the closing months of 2004 in China.'"
            ],
            "application/vnd.google.colaboratory.intrinsic+json": {
              "type": "string"
            }
          },
          "metadata": {},
          "execution_count": 114
        }
      ]
    }
  ]
}